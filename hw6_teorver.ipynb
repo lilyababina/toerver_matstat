{
  "nbformat": 4,
  "nbformat_minor": 0,
  "metadata": {
    "colab": {
      "name": "Untitled4.ipynb",
      "provenance": []
    },
    "kernelspec": {
      "name": "python3",
      "display_name": "Python 3"
    }
  },
  "cells": [
    {
      "cell_type": "code",
      "metadata": {
        "id": "qQx2m7iOCNSn",
        "colab_type": "code",
        "colab": {}
      },
      "source": [
        "import numpy as np\n"
      ],
      "execution_count": 0,
      "outputs": []
    },
    {
      "cell_type": "markdown",
      "metadata": {
        "id": "WJ5y4pCooRwK",
        "colab_type": "text"
      },
      "source": [
        "1) Даны значения величины заработной платы заемщиков банка (zp) и значения их поведенческого кредитного скоринга (ks):\n",
        "zp = [35, 45, 190, 200, 40, 70, 54, 150, 120, 110],\n",
        "ks = [401, 574, 874, 919, 459, 739, 653, 902, 746, 832].\n",
        "Найдите ковариацию этих двух величин с помощью элементарных действий, а затем с помощью функции cov из numpy\n",
        "Полученные значения должны быть равны.\n",
        "Найдите коэффициент корреляции Пирсона с помощью ковариации и среднеквадратичных отклонений двух признаков,\n",
        "а затем с использованием функций из библиотек numpy и pandas"
      ]
    },
    {
      "cell_type": "code",
      "metadata": {
        "id": "ca-cm-gPCVXY",
        "colab_type": "code",
        "colab": {}
      },
      "source": [
        "zp = np.array([35, 45, 190, 200, 40, 70, 54, 150, 120, 110])"
      ],
      "execution_count": 0,
      "outputs": []
    },
    {
      "cell_type": "code",
      "metadata": {
        "id": "ep0z_KO1CiaC",
        "colab_type": "code",
        "colab": {}
      },
      "source": [
        "ks = np.array([401, 574, 874, 919, 459, 739, 653, 902, 746, 832])"
      ],
      "execution_count": 0,
      "outputs": []
    },
    {
      "cell_type": "markdown",
      "metadata": {
        "id": "dJHfdYhpqa-N",
        "colab_type": "text"
      },
      "source": [
        "Найдите ковариацию этих двух величин с помощью элементарных действий"
      ]
    },
    {
      "cell_type": "code",
      "metadata": {
        "id": "UIQJcKvDqZ4z",
        "colab_type": "code",
        "colab": {}
      },
      "source": [
        "cov = np.mean(zp*ks) - np.mean(zp)*np.mean(ks)"
      ],
      "execution_count": 0,
      "outputs": []
    },
    {
      "cell_type": "code",
      "metadata": {
        "id": "f4k09BjKyi2b",
        "colab_type": "code",
        "colab": {
          "base_uri": "https://localhost:8080/",
          "height": 34
        },
        "outputId": "32c45285-e05a-4784-c728-b62240ec0366"
      },
      "source": [
        "cov"
      ],
      "execution_count": 8,
      "outputs": [
        {
          "output_type": "execute_result",
          "data": {
            "text/plain": [
              "9157.839999999997"
            ]
          },
          "metadata": {
            "tags": []
          },
          "execution_count": 8
        }
      ]
    },
    {
      "cell_type": "markdown",
      "metadata": {
        "id": "ljq5q6UrzhuF",
        "colab_type": "text"
      },
      "source": [
        "Найдите ковариацию этих двух величин  с помощью функции cov из numpy "
      ]
    },
    {
      "cell_type": "code",
      "metadata": {
        "id": "BJBNusnWzMyH",
        "colab_type": "code",
        "colab": {
          "base_uri": "https://localhost:8080/",
          "height": 51
        },
        "outputId": "3d19229f-04b2-4041-bf97-6c29947269e0"
      },
      "source": [
        "np.cov(zp, ks, ddof=0)"
      ],
      "execution_count": 11,
      "outputs": [
        {
          "output_type": "execute_result",
          "data": {
            "text/plain": [
              "array([[ 3494.64,  9157.84],\n",
              "       [ 9157.84, 30468.89]])"
            ]
          },
          "metadata": {
            "tags": []
          },
          "execution_count": 11
        }
      ]
    },
    {
      "cell_type": "code",
      "metadata": {
        "id": "klLiZ6im0rPj",
        "colab_type": "code",
        "colab": {
          "base_uri": "https://localhost:8080/",
          "height": 51
        },
        "outputId": "c548c1a0-ebfb-4a31-8cd4-c99785ce9f25"
      },
      "source": [
        "np.cov(zp, ks, ddof=1)"
      ],
      "execution_count": 15,
      "outputs": [
        {
          "output_type": "execute_result",
          "data": {
            "text/plain": [
              "array([[ 3882.93333333, 10175.37777778],\n",
              "       [10175.37777778, 33854.32222222]])"
            ]
          },
          "metadata": {
            "tags": []
          },
          "execution_count": 15
        }
      ]
    },
    {
      "cell_type": "markdown",
      "metadata": {
        "id": "cHWzUM5O0V_C",
        "colab_type": "text"
      },
      "source": [
        "Найдите коэффициент корреляции Пирсона с помощью ковариации и среднеквадратичных отклонений двух признаков"
      ]
    },
    {
      "cell_type": "code",
      "metadata": {
        "id": "tuEqn7Qcz0ss",
        "colab_type": "code",
        "colab": {
          "base_uri": "https://localhost:8080/",
          "height": 34
        },
        "outputId": "5845d276-2519-4b65-af5c-e7db07c40aaa"
      },
      "source": [
        "np.std(zp)"
      ],
      "execution_count": 12,
      "outputs": [
        {
          "output_type": "execute_result",
          "data": {
            "text/plain": [
              "59.115480206118605"
            ]
          },
          "metadata": {
            "tags": []
          },
          "execution_count": 12
        }
      ]
    },
    {
      "cell_type": "code",
      "metadata": {
        "id": "fy-ERL9jz9Wo",
        "colab_type": "code",
        "colab": {
          "base_uri": "https://localhost:8080/",
          "height": 34
        },
        "outputId": "725200dc-bde6-492d-8d78-961e1cf8b6c5"
      },
      "source": [
        "np.std(ks)"
      ],
      "execution_count": 13,
      "outputs": [
        {
          "output_type": "execute_result",
          "data": {
            "text/plain": [
              "174.55340157098058"
            ]
          },
          "metadata": {
            "tags": []
          },
          "execution_count": 13
        }
      ]
    },
    {
      "cell_type": "code",
      "metadata": {
        "id": "o-j4UwQJ0LhH",
        "colab_type": "code",
        "colab": {
          "base_uri": "https://localhost:8080/",
          "height": 34
        },
        "outputId": "f4bd96e7-c5d7-4406-b326-99d2cb6496fd"
      },
      "source": [
        "9157.84/(59.115480206118605*174.55340157098058)"
      ],
      "execution_count": 14,
      "outputs": [
        {
          "output_type": "execute_result",
          "data": {
            "text/plain": [
              "0.8874900920739162"
            ]
          },
          "metadata": {
            "tags": []
          },
          "execution_count": 14
        }
      ]
    },
    {
      "cell_type": "code",
      "metadata": {
        "id": "i0_6S9kI0pX7",
        "colab_type": "code",
        "colab": {
          "base_uri": "https://localhost:8080/",
          "height": 34
        },
        "outputId": "d090b138-efd1-4f3d-9567-089f4ac26ac7"
      },
      "source": [
        "np.std(zp, ddof=1)"
      ],
      "execution_count": 16,
      "outputs": [
        {
          "output_type": "execute_result",
          "data": {
            "text/plain": [
              "62.31318747531162"
            ]
          },
          "metadata": {
            "tags": []
          },
          "execution_count": 16
        }
      ]
    },
    {
      "cell_type": "code",
      "metadata": {
        "id": "QtGYR-bF0pzc",
        "colab_type": "code",
        "colab": {
          "base_uri": "https://localhost:8080/",
          "height": 34
        },
        "outputId": "bd650be9-9901-454e-ba09-ed6d62ef3e1e"
      },
      "source": [
        "np.std(ks, ddof=1)"
      ],
      "execution_count": 17,
      "outputs": [
        {
          "output_type": "execute_result",
          "data": {
            "text/plain": [
              "183.99544076477068"
            ]
          },
          "metadata": {
            "tags": []
          },
          "execution_count": 17
        }
      ]
    },
    {
      "cell_type": "code",
      "metadata": {
        "id": "sbwfE5ve0p_S",
        "colab_type": "code",
        "colab": {
          "base_uri": "https://localhost:8080/",
          "height": 34
        },
        "outputId": "da85595d-9ae9-4297-9b78-f72f5148569a"
      },
      "source": [
        "10175.37777778/(62.31318747531162*183.99544076477068)"
      ],
      "execution_count": 18,
      "outputs": [
        {
          "output_type": "execute_result",
          "data": {
            "text/plain": [
              "0.88749009207411"
            ]
          },
          "metadata": {
            "tags": []
          },
          "execution_count": 18
        }
      ]
    },
    {
      "cell_type": "markdown",
      "metadata": {
        "id": "SN5jOyPe0aeX",
        "colab_type": "text"
      },
      "source": [
        "Найдите коэффициент корреляции Пирсона с помощью функций из библиотек numpy и pandas"
      ]
    },
    {
      "cell_type": "code",
      "metadata": {
        "id": "KCEzFLiMCv5w",
        "colab_type": "code",
        "colab": {
          "base_uri": "https://localhost:8080/",
          "height": 51
        },
        "outputId": "51ede718-c023-49cf-c9c4-88323dad44da"
      },
      "source": [
        "np.corrcoef(ks, zp)"
      ],
      "execution_count": 8,
      "outputs": [
        {
          "output_type": "execute_result",
          "data": {
            "text/plain": [
              "array([[1.        , 0.88749009],\n",
              "       [0.88749009, 1.        ]])"
            ]
          },
          "metadata": {
            "tags": []
          },
          "execution_count": 8
        }
      ]
    },
    {
      "cell_type": "markdown",
      "metadata": {
        "id": "loLuIaHI12Gv",
        "colab_type": "text"
      },
      "source": [
        "2) Измерены значения IQ выборки студентов,\n",
        "обучающихся в местных технических вузах:\n",
        "131, 125, 115, 122, 131, 115, 107, 99, 125, 111.\n",
        "Известно, что в генеральной совокупности IQ распределен нормально.\n",
        "Найдите доверительный интервал для математического ожидания с надежностью 0.95."
      ]
    },
    {
      "cell_type": "markdown",
      "metadata": {
        "id": "5q7qOMVO8la_",
        "colab_type": "text"
      },
      "source": [
        "так как средн квадратичное отклонение не известо то используем формулу X(средн) +- t(a/2)*сигма/(корень из n)"
      ]
    },
    {
      "cell_type": "code",
      "metadata": {
        "id": "YuJ2hmEh7EKs",
        "colab_type": "code",
        "colab": {}
      },
      "source": [
        "import math"
      ],
      "execution_count": 0,
      "outputs": []
    },
    {
      "cell_type": "code",
      "metadata": {
        "id": "v7khCHq911TO",
        "colab_type": "code",
        "colab": {}
      },
      "source": [
        "iq = np.array([131, 125, 115, 122, 131, 115, 107, 99, 125, 111])"
      ],
      "execution_count": 0,
      "outputs": []
    },
    {
      "cell_type": "code",
      "metadata": {
        "id": "F4FGgUqh6QVC",
        "colab_type": "code",
        "colab": {}
      },
      "source": [
        "Xs = np.mean(iq)"
      ],
      "execution_count": 0,
      "outputs": []
    },
    {
      "cell_type": "code",
      "metadata": {
        "id": "3P-liMNj6Vzn",
        "colab_type": "code",
        "colab": {
          "base_uri": "https://localhost:8080/",
          "height": 34
        },
        "outputId": "8aef3fbf-0ddf-4938-b491-530c008fc0c6"
      },
      "source": [
        "Xs"
      ],
      "execution_count": 22,
      "outputs": [
        {
          "output_type": "execute_result",
          "data": {
            "text/plain": [
              "118.1"
            ]
          },
          "metadata": {
            "tags": []
          },
          "execution_count": 22
        }
      ]
    },
    {
      "cell_type": "code",
      "metadata": {
        "id": "gLKKlDdh6gur",
        "colab_type": "code",
        "colab": {
          "base_uri": "https://localhost:8080/",
          "height": 34
        },
        "outputId": "ada69115-0e51-40bb-a091-4585bd74a6e6"
      },
      "source": [
        "np.std(iq, ddof=1)"
      ],
      "execution_count": 24,
      "outputs": [
        {
          "output_type": "execute_result",
          "data": {
            "text/plain": [
              "10.54566788359614"
            ]
          },
          "metadata": {
            "tags": []
          },
          "execution_count": 24
        }
      ]
    },
    {
      "cell_type": "code",
      "metadata": {
        "id": "-tg4_q5x6rQf",
        "colab_type": "code",
        "colab": {}
      },
      "source": [
        "X1 = Xs - 2.262*np.std(iq, ddof=1)/math.sqrt(10)"
      ],
      "execution_count": 0,
      "outputs": []
    },
    {
      "cell_type": "code",
      "metadata": {
        "id": "HZcYC_BH7I5C",
        "colab_type": "code",
        "colab": {
          "base_uri": "https://localhost:8080/",
          "height": 34
        },
        "outputId": "852cbf6e-e9ce-4d8e-dd3b-35b701e336b6"
      },
      "source": [
        "X1"
      ],
      "execution_count": 43,
      "outputs": [
        {
          "output_type": "execute_result",
          "data": {
            "text/plain": [
              "110.55660776308164"
            ]
          },
          "metadata": {
            "tags": []
          },
          "execution_count": 43
        }
      ]
    },
    {
      "cell_type": "code",
      "metadata": {
        "id": "A1fHtS3075vt",
        "colab_type": "code",
        "colab": {}
      },
      "source": [
        "X2 = Xs + 2.262*np.std(iq, ddof=1)/math.sqrt(10)"
      ],
      "execution_count": 0,
      "outputs": []
    },
    {
      "cell_type": "code",
      "metadata": {
        "id": "JAsaXsR377sj",
        "colab_type": "code",
        "colab": {
          "base_uri": "https://localhost:8080/",
          "height": 34
        },
        "outputId": "e7de614f-52f9-43ac-cc4a-565f38f25ea6"
      },
      "source": [
        "X2"
      ],
      "execution_count": 45,
      "outputs": [
        {
          "output_type": "execute_result",
          "data": {
            "text/plain": [
              "125.64339223691834"
            ]
          },
          "metadata": {
            "tags": []
          },
          "execution_count": 45
        }
      ]
    },
    {
      "cell_type": "markdown",
      "metadata": {
        "id": "1sEpdubM8GLe",
        "colab_type": "text"
      },
      "source": [
        "3) Известно, что рост футболистов в сборной распределен нормально\n",
        "с дисперсией генеральной совокупности, равной 25 кв.см. Объем выборки равен 27,\n",
        "среднее выборочное составляет 174.2. Найдите доверительный интервал для математического\n",
        "ожидания с надежностью 0.95."
      ]
    },
    {
      "cell_type": "markdown",
      "metadata": {
        "id": "IyhJXJKV9TDj",
        "colab_type": "text"
      },
      "source": [
        "так как дисперсия известна, то используем формулу X(средн) +- z(a/2)*сигма/(корень из n)"
      ]
    },
    {
      "cell_type": "code",
      "metadata": {
        "id": "AZN5Riji9lwz",
        "colab_type": "code",
        "colab": {}
      },
      "source": [
        "Xsr = 174.2"
      ],
      "execution_count": 0,
      "outputs": []
    },
    {
      "cell_type": "code",
      "metadata": {
        "id": "Uzb53XS89r1Y",
        "colab_type": "code",
        "colab": {}
      },
      "source": [
        "H1 = Xsr - 1.96*math.sqrt(25)/math.sqrt(27)"
      ],
      "execution_count": 0,
      "outputs": []
    },
    {
      "cell_type": "code",
      "metadata": {
        "id": "GZMYdKsD-DRL",
        "colab_type": "code",
        "colab": {
          "base_uri": "https://localhost:8080/",
          "height": 34
        },
        "outputId": "9ca2e288-af09-4da0-9a19-b725552c4a59"
      },
      "source": [
        "H1"
      ],
      "execution_count": 49,
      "outputs": [
        {
          "output_type": "execute_result",
          "data": {
            "text/plain": [
              "172.31398912064722"
            ]
          },
          "metadata": {
            "tags": []
          },
          "execution_count": 49
        }
      ]
    },
    {
      "cell_type": "code",
      "metadata": {
        "id": "NIYe2wzc-Gu1",
        "colab_type": "code",
        "colab": {}
      },
      "source": [
        "H2 = Xsr + 1.96*math.sqrt(25)/math.sqrt(27)"
      ],
      "execution_count": 0,
      "outputs": []
    },
    {
      "cell_type": "code",
      "metadata": {
        "id": "Olkj0BtB-Jjr",
        "colab_type": "code",
        "colab": {
          "base_uri": "https://localhost:8080/",
          "height": 34
        },
        "outputId": "aa2f499a-9d45-4135-cbe7-6b577de736ee"
      },
      "source": [
        "H2"
      ],
      "execution_count": 51,
      "outputs": [
        {
          "output_type": "execute_result",
          "data": {
            "text/plain": [
              "176.08601087935276"
            ]
          },
          "metadata": {
            "tags": []
          },
          "execution_count": 51
        }
      ]
    }
  ]
}