{
  "nbformat": 4,
  "nbformat_minor": 0,
  "metadata": {
    "colab": {
      "name": "HW8_teorver.ipynb",
      "provenance": []
    },
    "kernelspec": {
      "name": "python3",
      "display_name": "Python 3"
    }
  },
  "cells": [
    {
      "cell_type": "code",
      "metadata": {
        "id": "7dzNAzo_xUp0",
        "colab_type": "code",
        "colab": {}
      },
      "source": [
        ""
      ],
      "execution_count": null,
      "outputs": []
    },
    {
      "cell_type": "markdown",
      "metadata": {
        "id": "vLInEqgTxY28",
        "colab_type": "text"
      },
      "source": [
        "1. Провести дисперсионный анализ для определения того, есть ли различия среднего роста среди взрослых футболистов, хоккеистов и штангистов. \n",
        "Даны значения роста в трех группах случайно выбранных спортсменов: \n",
        "Футболисты: 173, 175, 180, 178, 177, 185, 183, 182. \n",
        "Хоккеисты: 177, 179, 180, 188, 177, 172, 171, 184, 180. \n",
        "Штангисты: 172, 173, 169, 177, 166, 180, 178, 177, 172, 166, 170."
      ]
    },
    {
      "cell_type": "code",
      "metadata": {
        "id": "26qMDpctxaKu",
        "colab_type": "code",
        "colab": {}
      },
      "source": [
        "import numpy as np\n",
        "from scipy import stats"
      ],
      "execution_count": 1,
      "outputs": []
    },
    {
      "cell_type": "code",
      "metadata": {
        "id": "2T4LvbHwyCOY",
        "colab_type": "code",
        "colab": {}
      },
      "source": [
        "stats.f_oneway?"
      ],
      "execution_count": 2,
      "outputs": []
    },
    {
      "cell_type": "code",
      "metadata": {
        "id": "lj_D_4YzyQxi",
        "colab_type": "code",
        "colab": {
          "base_uri": "https://localhost:8080/",
          "height": 34
        },
        "outputId": "0dcc47ee-0d83-4460-8119-7a902089cbed"
      },
      "source": [
        "y1 = np.array([173, 175, 180, 178, 177, 185, 183, 182])\n",
        "y1"
      ],
      "execution_count": 3,
      "outputs": [
        {
          "output_type": "execute_result",
          "data": {
            "text/plain": [
              "array([173, 175, 180, 178, 177, 185, 183, 182])"
            ]
          },
          "metadata": {
            "tags": []
          },
          "execution_count": 3
        }
      ]
    },
    {
      "cell_type": "code",
      "metadata": {
        "id": "8HuvVzrsyaFm",
        "colab_type": "code",
        "colab": {
          "base_uri": "https://localhost:8080/",
          "height": 34
        },
        "outputId": "b029c64d-3ff8-464a-cc9c-eefb947149a4"
      },
      "source": [
        "y2 = np.array([177, 179, 180, 188, 177, 172, 171, 184, 180])\n",
        "y2"
      ],
      "execution_count": 4,
      "outputs": [
        {
          "output_type": "execute_result",
          "data": {
            "text/plain": [
              "array([177, 179, 180, 188, 177, 172, 171, 184, 180])"
            ]
          },
          "metadata": {
            "tags": []
          },
          "execution_count": 4
        }
      ]
    },
    {
      "cell_type": "code",
      "metadata": {
        "id": "wNXDSGBLyiP1",
        "colab_type": "code",
        "colab": {
          "base_uri": "https://localhost:8080/",
          "height": 34
        },
        "outputId": "312a6f0c-4bec-4b41-8943-38bf63c27970"
      },
      "source": [
        "y3 = np.array([172, 173, 169, 177, 166, 180, 178, 177, 172, 166, 170])\n",
        "y3"
      ],
      "execution_count": 5,
      "outputs": [
        {
          "output_type": "execute_result",
          "data": {
            "text/plain": [
              "array([172, 173, 169, 177, 166, 180, 178, 177, 172, 166, 170])"
            ]
          },
          "metadata": {
            "tags": []
          },
          "execution_count": 5
        }
      ]
    },
    {
      "cell_type": "code",
      "metadata": {
        "id": "Gha5SlxkypKw",
        "colab_type": "code",
        "colab": {
          "base_uri": "https://localhost:8080/",
          "height": 34
        },
        "outputId": "aae24668-2bcb-4ae6-a98c-0804c072443c"
      },
      "source": [
        "stats.f_oneway(y1, y2, y3)"
      ],
      "execution_count": 6,
      "outputs": [
        {
          "output_type": "execute_result",
          "data": {
            "text/plain": [
              "F_onewayResult(statistic=5.500053450812596, pvalue=0.010482206918698694)"
            ]
          },
          "metadata": {
            "tags": []
          },
          "execution_count": 6
        }
      ]
    },
    {
      "cell_type": "markdown",
      "metadata": {
        "id": "PCSryTnQzQAI",
        "colab_type": "text"
      },
      "source": [
        "Если берем альфа = 5%, то pvalue=0.0104 < 5%\n",
        "поэтому верна альтернативная гипотеза - средний рост не равен в трех группа и зависит от качественного параметра - вида спорта\n",
        "Вид спорта- статистически значимый"
      ]
    },
    {
      "cell_type": "code",
      "metadata": {
        "id": "gvWH87oTzPQ4",
        "colab_type": "code",
        "colab": {}
      },
      "source": [
        ""
      ],
      "execution_count": null,
      "outputs": []
    }
  ]
}