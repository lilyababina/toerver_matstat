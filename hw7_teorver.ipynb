{
  "nbformat": 4,
  "nbformat_minor": 0,
  "metadata": {
    "colab": {
      "name": "hw7_teorver.ipynb",
      "provenance": []
    },
    "kernelspec": {
      "name": "python3",
      "display_name": "Python 3"
    }
  },
  "cells": [
    {
      "cell_type": "code",
      "metadata": {
        "id": "yio6oQEbxZlN",
        "colab_type": "code",
        "colab": {}
      },
      "source": [
        ""
      ],
      "execution_count": 0,
      "outputs": []
    },
    {
      "cell_type": "markdown",
      "metadata": {
        "id": "vgqg81S-xarc",
        "colab_type": "text"
      },
      "source": [
        "1. Даны значения величины заработной платы заемщиков банка (zp) и значения их поведенческого кредитного скоринга (ks): zp = [35, 45, 190, 200, 40, 70, 54, 150, 120, 110], ks = [401, 574, 874, 919, 459, 739, 653, 902, 746, 832]. Используя математические операции, посчитать коэффициенты линейной регрессии, приняв за X заработную плату (то есть, zp - признак), а за y - значения скорингового балла (то есть, ks - целевая переменная). Произвести расчет как с использованием intercept, так и без."
      ]
    },
    {
      "cell_type": "code",
      "metadata": {
        "id": "xLkM2GxuyEU7",
        "colab_type": "code",
        "colab": {}
      },
      "source": [
        "import numpy as np"
      ],
      "execution_count": 0,
      "outputs": []
    },
    {
      "cell_type": "code",
      "metadata": {
        "id": "blB7iNUcyL7T",
        "colab_type": "code",
        "colab": {
          "base_uri": "https://localhost:8080/",
          "height": 34
        },
        "outputId": "3d7041ed-43ac-4021-a037-91f85a040beb"
      },
      "source": [
        "X = np.array([35, 45, 190, 200, 40, 70, 54, 150, 120, 110])\n",
        "X"
      ],
      "execution_count": 2,
      "outputs": [
        {
          "output_type": "execute_result",
          "data": {
            "text/plain": [
              "array([ 35,  45, 190, 200,  40,  70,  54, 150, 120, 110])"
            ]
          },
          "metadata": {
            "tags": []
          },
          "execution_count": 2
        }
      ]
    },
    {
      "cell_type": "code",
      "metadata": {
        "id": "WgDkl0BGyVfB",
        "colab_type": "code",
        "colab": {
          "base_uri": "https://localhost:8080/",
          "height": 34
        },
        "outputId": "f3dcb481-3a20-462f-a318-5872487ca5e3"
      },
      "source": [
        "y = np.array([401, 574, 874, 919, 459, 739, 653, 902, 746, 832])\n",
        "y"
      ],
      "execution_count": 3,
      "outputs": [
        {
          "output_type": "execute_result",
          "data": {
            "text/plain": [
              "array([401, 574, 874, 919, 459, 739, 653, 902, 746, 832])"
            ]
          },
          "metadata": {
            "tags": []
          },
          "execution_count": 3
        }
      ]
    },
    {
      "cell_type": "code",
      "metadata": {
        "id": "rX8OCLMKyc0t",
        "colab_type": "code",
        "colab": {
          "base_uri": "https://localhost:8080/",
          "height": 34
        },
        "outputId": "b0cee0e7-ac24-4282-81d4-8957fa954286"
      },
      "source": [
        "b = (np.mean(X*y)- np.mean(X)*np.mean(y))/(np.mean(X**2) - np.mean(X)**2)\n",
        "b"
      ],
      "execution_count": 4,
      "outputs": [
        {
          "output_type": "execute_result",
          "data": {
            "text/plain": [
              "2.620538882402765"
            ]
          },
          "metadata": {
            "tags": []
          },
          "execution_count": 4
        }
      ]
    },
    {
      "cell_type": "markdown",
      "metadata": {
        "id": "68eSzE3Xy1nQ",
        "colab_type": "text"
      },
      "source": [
        "2 способ"
      ]
    },
    {
      "cell_type": "code",
      "metadata": {
        "id": "h2QvJv4ry3kD",
        "colab_type": "code",
        "colab": {
          "base_uri": "https://localhost:8080/",
          "height": 34
        },
        "outputId": "0a8679fb-add3-4a35-86ea-f120ea845a9b"
      },
      "source": [
        "n = len(X)\n",
        "n"
      ],
      "execution_count": 5,
      "outputs": [
        {
          "output_type": "execute_result",
          "data": {
            "text/plain": [
              "10"
            ]
          },
          "metadata": {
            "tags": []
          },
          "execution_count": 5
        }
      ]
    },
    {
      "cell_type": "code",
      "metadata": {
        "id": "Bz-3i_bKzC6T",
        "colab_type": "code",
        "colab": {
          "base_uri": "https://localhost:8080/",
          "height": 34
        },
        "outputId": "aa7c8503-eeb8-4612-b626-a39837561d2d"
      },
      "source": [
        "b = (n*(np.sum(X*y)) - (np.sum(X)*np.sum(y)))/(n*(np.sum(X**2)) - ((np.sum(X)**2)))\n",
        "b"
      ],
      "execution_count": 6,
      "outputs": [
        {
          "output_type": "execute_result",
          "data": {
            "text/plain": [
              "2.6205388824027653"
            ]
          },
          "metadata": {
            "tags": []
          },
          "execution_count": 6
        }
      ]
    },
    {
      "cell_type": "code",
      "metadata": {
        "id": "V1AMzyYfzlo_",
        "colab_type": "code",
        "colab": {
          "base_uri": "https://localhost:8080/",
          "height": 34
        },
        "outputId": "ac3ebe4c-aae5-4ba8-d0bf-3d233a620972"
      },
      "source": [
        "a = np.mean(y)- b*np.mean(X)\n",
        "a"
      ],
      "execution_count": 7,
      "outputs": [
        {
          "output_type": "execute_result",
          "data": {
            "text/plain": [
              "444.17735732435955"
            ]
          },
          "metadata": {
            "tags": []
          },
          "execution_count": 7
        }
      ]
    },
    {
      "cell_type": "code",
      "metadata": {
        "id": "j9t69CKvzubl",
        "colab_type": "code",
        "colab": {
          "base_uri": "https://localhost:8080/",
          "height": 51
        },
        "outputId": "31471e50-b774-444f-b82b-5f9e6b744609"
      },
      "source": [
        "y_hat = 444.177 + 2.6205*X\n",
        "y_hat"
      ],
      "execution_count": 8,
      "outputs": [
        {
          "output_type": "execute_result",
          "data": {
            "text/plain": [
              "array([535.8945, 562.0995, 942.072 , 968.277 , 548.997 , 627.612 ,\n",
              "       585.684 , 837.252 , 758.637 , 732.432 ])"
            ]
          },
          "metadata": {
            "tags": []
          },
          "execution_count": 8
        }
      ]
    },
    {
      "cell_type": "code",
      "metadata": {
        "id": "6UG7QmUv2Lsb",
        "colab_type": "code",
        "colab": {
          "base_uri": "https://localhost:8080/",
          "height": 282
        },
        "outputId": "d2f50804-4f99-4ab8-8539-72da435d635a"
      },
      "source": [
        "import matplotlib.pyplot as plt\n",
        "%matplotlib inline\n",
        "plt.scatter(X, y)\n",
        "plt.plot(X, 444.177 + 2.6205*X)\n",
        "plt.show"
      ],
      "execution_count": 9,
      "outputs": [
        {
          "output_type": "execute_result",
          "data": {
            "text/plain": [
              "<function matplotlib.pyplot.show>"
            ]
          },
          "metadata": {
            "tags": []
          },
          "execution_count": 9
        },
        {
          "output_type": "display_data",
          "data": {
            "image/png": "[encoded data removed]",
            "text/plain": [
              "<Figure size 432x288 with 1 Axes>"
            ]
          },
          "metadata": {
            "tags": [],
            "needs_background": "light"
          }
        }
      ]
    },
    {
      "cell_type": "code",
      "metadata": {
        "id": "jg3IaQOHa1En",
        "colab_type": "code",
        "colab": {
          "base_uri": "https://localhost:8080/",
          "height": 34
        },
        "outputId": "b8ab1097-660c-4819-8d40-df8b19a6c3eb"
      },
      "source": [
        "mse=((y-y_hat)**2).sum()/n\n",
        "mse"
      ],
      "execution_count": 10,
      "outputs": [
        {
          "output_type": "execute_result",
          "data": {
            "text/plain": [
              "6470.414224949998"
            ]
          },
          "metadata": {
            "tags": []
          },
          "execution_count": 10
        }
      ]
    },
    {
      "cell_type": "markdown",
      "metadata": {
        "id": "3qdYv8HJci3r",
        "colab_type": "text"
      },
      "source": [
        "матричный вид - intercept = 0"
      ]
    },
    {
      "cell_type": "code",
      "metadata": {
        "id": "vq13AALYcrUR",
        "colab_type": "code",
        "colab": {}
      },
      "source": [
        "import seaborn as sns"
      ],
      "execution_count": 0,
      "outputs": []
    },
    {
      "cell_type": "code",
      "metadata": {
        "id": "YOqQvevscupA",
        "colab_type": "code",
        "colab": {
          "base_uri": "https://localhost:8080/",
          "height": 187
        },
        "outputId": "c507740a-7645-4edf-8cb7-ad10f19a2bb1"
      },
      "source": [
        "X = X.reshape((10,1))\n",
        "X"
      ],
      "execution_count": 11,
      "outputs": [
        {
          "output_type": "execute_result",
          "data": {
            "text/plain": [
              "array([[ 35],\n",
              "       [ 45],\n",
              "       [190],\n",
              "       [200],\n",
              "       [ 40],\n",
              "       [ 70],\n",
              "       [ 54],\n",
              "       [150],\n",
              "       [120],\n",
              "       [110]])"
            ]
          },
          "metadata": {
            "tags": []
          },
          "execution_count": 11
        }
      ]
    },
    {
      "cell_type": "code",
      "metadata": {
        "id": "pCFpbpJWc4UY",
        "colab_type": "code",
        "colab": {
          "base_uri": "https://localhost:8080/",
          "height": 187
        },
        "outputId": "a2034380-504d-4a67-90f8-db2571e19936"
      },
      "source": [
        "y= y.reshape((10,1))\n",
        "y"
      ],
      "execution_count": 12,
      "outputs": [
        {
          "output_type": "execute_result",
          "data": {
            "text/plain": [
              "array([[401],\n",
              "       [574],\n",
              "       [874],\n",
              "       [919],\n",
              "       [459],\n",
              "       [739],\n",
              "       [653],\n",
              "       [902],\n",
              "       [746],\n",
              "       [832]])"
            ]
          },
          "metadata": {
            "tags": []
          },
          "execution_count": 12
        }
      ]
    },
    {
      "cell_type": "code",
      "metadata": {
        "id": "sMjIaQKofBlu",
        "colab_type": "code",
        "colab": {
          "base_uri": "https://localhost:8080/",
          "height": 34
        },
        "outputId": "66358806-ee96-46a1-b99c-e688e6074cb9"
      },
      "source": [
        "B = np.dot(np.linalg.inv(np.dot(X.T, X)),X.T@y)\n",
        "B"
      ],
      "execution_count": 13,
      "outputs": [
        {
          "output_type": "execute_result",
          "data": {
            "text/plain": [
              "array([[5.88982042]])"
            ]
          },
          "metadata": {
            "tags": []
          },
          "execution_count": 13
        }
      ]
    },
    {
      "cell_type": "code",
      "metadata": {
        "id": "KM23LB55fnFc",
        "colab_type": "code",
        "colab": {
          "base_uri": "https://localhost:8080/",
          "height": 282
        },
        "outputId": "fb49e9c3-f4b9-4ad9-a46f-ba388ca3fd62"
      },
      "source": [
        "import matplotlib.pyplot as plt\n",
        "%matplotlib inline\n",
        "plt.scatter(X, y)\n",
        "plt.plot(X, 5.8898*X)\n",
        "plt.show"
      ],
      "execution_count": 14,
      "outputs": [
        {
          "output_type": "execute_result",
          "data": {
            "text/plain": [
              "<function matplotlib.pyplot.show>"
            ]
          },
          "metadata": {
            "tags": []
          },
          "execution_count": 14
        },
        {
          "output_type": "display_data",
          "data": {
            "image/png": "[encoded data removed]",
            "text/plain": [
              "<Figure size 432x288 with 1 Axes>"
            ]
          },
          "metadata": {
            "tags": [],
            "needs_background": "light"
          }
        }
      ]
    },
    {
      "cell_type": "markdown",
      "metadata": {
        "id": "A9gK015VhD4z",
        "colab_type": "text"
      },
      "source": [
        "2 Посчитать коэффициент линейной регрессии при заработной плате (zp), используя градиентный спуск (без intercept)."
      ]
    },
    {
      "cell_type": "code",
      "metadata": {
        "id": "CrEjkKqHFBOv",
        "colab_type": "code",
        "colab": {}
      },
      "source": [
        "import numpy as np"
      ],
      "execution_count": 0,
      "outputs": []
    },
    {
      "cell_type": "code",
      "metadata": {
        "id": "yhsO2Z1oFJ78",
        "colab_type": "code",
        "colab": {
          "base_uri": "https://localhost:8080/",
          "height": 34
        },
        "outputId": "59b99055-2fba-457b-f2d7-cd4120e908eb"
      },
      "source": [
        "X = np.array([35, 45, 190, 200, 40, 70, 54, 150, 120, 110])\n",
        "X"
      ],
      "execution_count": 2,
      "outputs": [
        {
          "output_type": "execute_result",
          "data": {
            "text/plain": [
              "array([ 35,  45, 190, 200,  40,  70,  54, 150, 120, 110])"
            ]
          },
          "metadata": {
            "tags": []
          },
          "execution_count": 2
        }
      ]
    },
    {
      "cell_type": "code",
      "metadata": {
        "id": "cRKSfokwFQlg",
        "colab_type": "code",
        "colab": {
          "base_uri": "https://localhost:8080/",
          "height": 34
        },
        "outputId": "ebf7e782-0b3f-4045-f376-6aad87a34722"
      },
      "source": [
        "y = np.array([401, 574, 874, 919, 459, 739, 653, 902, 746, 832])\n",
        "y"
      ],
      "execution_count": 3,
      "outputs": [
        {
          "output_type": "execute_result",
          "data": {
            "text/plain": [
              "array([401, 574, 874, 919, 459, 739, 653, 902, 746, 832])"
            ]
          },
          "metadata": {
            "tags": []
          },
          "execution_count": 3
        }
      ]
    },
    {
      "cell_type": "code",
      "metadata": {
        "id": "X6DP5KRgFVbH",
        "colab_type": "code",
        "colab": {}
      },
      "source": [
        "def mse_(B1, y=y, X=X, n=10):\n",
        "  return np.sum((B1*X-y)**2)/n "
      ],
      "execution_count": 0,
      "outputs": []
    },
    {
      "cell_type": "code",
      "metadata": {
        "id": "gKr8nht1GJBp",
        "colab_type": "code",
        "colab": {
          "base_uri": "https://localhost:8080/",
          "height": 34
        },
        "outputId": "10916341-45fd-42b4-b1d4-8ee437e15ba8"
      },
      "source": [
        "alpha = 1e-6\n",
        "alpha"
      ],
      "execution_count": 5,
      "outputs": [
        {
          "output_type": "execute_result",
          "data": {
            "text/plain": [
              "1e-06"
            ]
          },
          "metadata": {
            "tags": []
          },
          "execution_count": 5
        }
      ]
    },
    {
      "cell_type": "code",
      "metadata": {
        "id": "V4A1ucjfGjeT",
        "colab_type": "code",
        "colab": {}
      },
      "source": [
        "#mse_p = (2/n)*np.sum((B1*X - y)*X)"
      ],
      "execution_count": 0,
      "outputs": []
    },
    {
      "cell_type": "code",
      "metadata": {
        "id": "49L_6dxBG9LI",
        "colab_type": "code",
        "colab": {}
      },
      "source": [
        "B1 = 0.1\n",
        "n= 10"
      ],
      "execution_count": 0,
      "outputs": []
    },
    {
      "cell_type": "code",
      "metadata": {
        "id": "VNja_JRRHTAj",
        "colab_type": "code",
        "colab": {
          "base_uri": "https://localhost:8080/",
          "height": 357
        },
        "outputId": "1d0ce316-d16c-4052-9f61-3627d23386c5"
      },
      "source": [
        "for i in range(20):\n",
        "  B1 -=alpha*(2/n)*np.sum((B1*X-y)*X)\n",
        "  print('B1={}'.format(B1))"
      ],
      "execution_count": 8,
      "outputs": [
        {
          "output_type": "stream",
          "text": [
            "B1=1.6319792141937546\n",
            "B1=1.7492963645092312\n",
            "B1=1.8633810519186353\n",
            "B1=1.9743223411189108\n",
            "B1=2.082206842789593\n",
            "B1=2.187118781208843\n",
            "B1=2.2891400600064395\n",
            "B1=2.38835032610507\n",
            "B1=2.484827031899832\n",
            "B1=2.5786454957244893\n",
            "B1=2.6698789606516935\n",
            "B1=2.7585986516730654\n",
            "B1=2.844873831303787\n",
            "B1=2.9287718536551073\n",
            "B1=3.0103582170169774\n",
            "B1=3.089696614991865\n",
            "B1=3.166848986219671\n",
            "B1=3.2418755627325635\n",
            "B1=3.3148349169774805\n",
            "B1=3.3857840075430166\n"
          ],
          "name": "stdout"
        }
      ]
    },
    {
      "cell_type": "code",
      "metadata": {
        "id": "4dLPszfNIZs5",
        "colab_type": "code",
        "colab": {
          "base_uri": "https://localhost:8080/",
          "height": 289
        },
        "outputId": "87bd0f2f-50ec-46c3-ac56-840119a4b9d1"
      },
      "source": [
        "for i in range(160):\n",
        "  B1 -=alpha*(2/n)*np.sum((B1*X-y)*X)\n",
        "  if i%10==0:\n",
        "    print('Iteration: {i}, B1={B1}, mse={mse}'.format(i=i, B1=B1, mse=mse_(B1)))"
      ],
      "execution_count": 13,
      "outputs": [
        {
          "output_type": "stream",
          "text": [
            "Iteration: 0, B1=0.25952808, mse=493237.7212546963\n",
            "Iteration: 10, B1=1.6319792141937546, mse=306275.7568040035\n",
            "Iteration: 20, B1=2.6698789606516935, mse=199352.96411174876\n",
            "Iteration: 30, B1=3.4547782236263824, mse=138204.25062502263\n",
            "Iteration: 40, B1=4.04834889855975, mse=103233.54824312925\n",
            "Iteration: 50, B1=4.497229618367758, mse=83233.94472982832\n",
            "Iteration: 60, B1=4.836690291080364, mse=71796.25222021657\n",
            "Iteration: 70, B1=5.093403362579137, mse=65255.0820486468\n",
            "Iteration: 80, B1=5.287539550879594, mse=61514.21323463749\n",
            "Iteration: 90, B1=5.434352720103083, mse=59374.825462025976\n",
            "Iteration: 100, B1=5.54537842245223, mse=58151.31823171113\n",
            "Iteration: 110, B1=5.629340281237233, mse=57451.59938606899\n",
            "Iteration: 120, B1=5.692835432193034, mse=57051.433003054815\n",
            "Iteration: 130, B1=5.740852880272922, mse=56822.57946410561\n",
            "Iteration: 140, B1=5.777165500770666, mse=56691.69904907657\n",
            "Iteration: 150, B1=5.804626485478126, mse=56616.849068093856\n"
          ],
          "name": "stdout"
        }
      ]
    },
    {
      "cell_type": "code",
      "metadata": {
        "id": "6CfE7kBGJU7b",
        "colab_type": "code",
        "colab": {
          "base_uri": "https://localhost:8080/",
          "height": 119
        },
        "outputId": "d55d1928-6cf5-4722-8fbf-0ed72e661d7e"
      },
      "source": [
        "for i in range(3000):\n",
        "  B1 -=alpha*(2/n)*np.sum((B1*X-y)*X)\n",
        "  if i%500==0:\n",
        "    print('Iteration: {i}, B1={B1}, mse={mse}'.format(i=i, B1=B1, mse=mse_(B1)))"
      ],
      "execution_count": 14,
      "outputs": [
        {
          "output_type": "stream",
          "text": [
            "Iteration: 0, B1=5.825393526544474, mse=56574.04266614384\n",
            "Iteration: 500, B1=5.88982036492584, mse=56516.85841571945\n",
            "Iteration: 1000, B1=5.889820420132642, mse=56516.8584157194\n",
            "Iteration: 1500, B1=5.889820420132673, mse=56516.85841571943\n",
            "Iteration: 2000, B1=5.889820420132673, mse=56516.85841571943\n",
            "Iteration: 2500, B1=5.889820420132673, mse=56516.85841571943\n"
          ],
          "name": "stdout"
        }
      ]
    },
    {
      "cell_type": "code",
      "metadata": {
        "id": "p-BLVljmJqxp",
        "colab_type": "code",
        "colab": {
          "base_uri": "https://localhost:8080/",
          "height": 34
        },
        "outputId": "5abcbba2-d581-475e-e819-e201d0c97b14"
      },
      "source": [
        "mse_(5.88982042)"
      ],
      "execution_count": 16,
      "outputs": [
        {
          "output_type": "execute_result",
          "data": {
            "text/plain": [
              "56516.85841571943"
            ]
          },
          "metadata": {
            "tags": []
          },
          "execution_count": 16
        }
      ]
    },
    {
      "cell_type": "markdown",
      "metadata": {
        "id": "QFxrfLieKLQj",
        "colab_type": "text"
      },
      "source": [
        "3. В каких случаях для вычисления доверительных интервалов и проверки статистических гипотез используется таблица значений функции Лапласа, а в каких - таблица критических точек распределения Стьюдента? "
      ]
    },
    {
      "cell_type": "markdown",
      "metadata": {
        "id": "ZIxRsxsALWkR",
        "colab_type": "text"
      },
      "source": [
        "таблица значений функции Лапласа используется когда сигма(ср квадратичное отклонение) известна в нормальном распределении, \n",
        "а таблица критических точек распределения Стьюдента  - когда неизвестно среднее выборки из нормального распределения "
      ]
    },
    {
      "cell_type": "markdown",
      "metadata": {
        "id": "DSWn9-lJOc0_",
        "colab_type": "text"
      },
      "source": [
        "*4. Произвести вычисления как в пункте 2, но с вычислением intercept. Учесть, что изменение коэффициентов должно производиться на каждом шаге одновременно (то есть изменение одного коэффициента не должно влиять на изменение другого во время одной итерации)."
      ]
    },
    {
      "cell_type": "code",
      "metadata": {
        "id": "-hh2lOXWObuO",
        "colab_type": "code",
        "colab": {
          "base_uri": "https://localhost:8080/",
          "height": 34
        },
        "outputId": "e5549679-64e5-4958-b5cd-3005e5b17529"
      },
      "source": [
        "import numpy as np\n",
        "X = np.array([35, 45, 190, 200, 40, 70, 54, 150, 120, 110])\n",
        "X"
      ],
      "execution_count": 1,
      "outputs": [
        {
          "output_type": "execute_result",
          "data": {
            "text/plain": [
              "array([ 35,  45, 190, 200,  40,  70,  54, 150, 120, 110])"
            ]
          },
          "metadata": {
            "tags": []
          },
          "execution_count": 1
        }
      ]
    },
    {
      "cell_type": "code",
      "metadata": {
        "id": "ejylJX9FOj2T",
        "colab_type": "code",
        "colab": {
          "base_uri": "https://localhost:8080/",
          "height": 34
        },
        "outputId": "ca14a7d9-aa64-4bfe-ef50-4cbdbdd466b4"
      },
      "source": [
        "y = np.array([401, 574, 874, 919, 459, 739, 653, 902, 746, 832])\n",
        "y"
      ],
      "execution_count": 2,
      "outputs": [
        {
          "output_type": "execute_result",
          "data": {
            "text/plain": [
              "array([401, 574, 874, 919, 459, 739, 653, 902, 746, 832])"
            ]
          },
          "metadata": {
            "tags": []
          },
          "execution_count": 2
        }
      ]
    },
    {
      "cell_type": "code",
      "metadata": {
        "id": "YkKaHkOYOoHq",
        "colab_type": "code",
        "colab": {}
      },
      "source": [
        "def mse_(B0, B1, y=y, X=X, n=10):\n",
        "  return np.sum((B0+B1*X-y)**2)/n "
      ],
      "execution_count": 0,
      "outputs": []
    },
    {
      "cell_type": "code",
      "metadata": {
        "id": "Jm5hpLQ-O0NR",
        "colab_type": "code",
        "colab": {
          "base_uri": "https://localhost:8080/",
          "height": 34
        },
        "outputId": "81489420-a614-49b8-9ec5-07fcb3234c06"
      },
      "source": [
        "alpha = 1e-6\n",
        "alpha"
      ],
      "execution_count": 4,
      "outputs": [
        {
          "output_type": "execute_result",
          "data": {
            "text/plain": [
              "1e-06"
            ]
          },
          "metadata": {
            "tags": []
          },
          "execution_count": 4
        }
      ]
    },
    {
      "cell_type": "code",
      "metadata": {
        "id": "24guGrdzQ337",
        "colab_type": "code",
        "colab": {}
      },
      "source": [
        "B1 = 0.1"
      ],
      "execution_count": 0,
      "outputs": []
    },
    {
      "cell_type": "code",
      "metadata": {
        "id": "sy5axR-ZJ9p-",
        "colab_type": "code",
        "colab": {}
      },
      "source": [
        "B0 = 0.1"
      ],
      "execution_count": 0,
      "outputs": []
    },
    {
      "cell_type": "code",
      "metadata": {
        "id": "9KfQLVZoLzkM",
        "colab_type": "code",
        "colab": {}
      },
      "source": [
        "n = 10"
      ],
      "execution_count": 0,
      "outputs": []
    },
    {
      "cell_type": "code",
      "metadata": {
        "id": "s7NJ3nxJKGyS",
        "colab_type": "code",
        "colab": {
          "base_uri": "https://localhost:8080/",
          "height": 527
        },
        "outputId": "32cea021-8bdb-4872-b5ed-a1d66502fc96"
      },
      "source": [
        "for i in range(3000000):\n",
        "  y_b = B0+B1*X\n",
        "  B0 -=alpha*(2/n)*np.sum(y_b - y)\n",
        "  B1 -=alpha*(2/n)*np.sum((y_b-y)*X)\n",
        "  if i%100000==0:\n",
        "    print('Iteration: {i},B0={B0}, B1={B1}, mse={mse}'.format(i=i,B0=B0, B1=B1, mse=mse_(B0, B1)))"
      ],
      "execution_count": 31,
      "outputs": [
        {
          "output_type": "stream",
          "text": [
            "Iteration: 0,B0=444.1773566575805, B1=2.620538887310553, mse=6470.414201176662\n",
            "Iteration: 100000,B0=444.17735669168655, B1=2.6205388870595216, mse=6470.414201176658\n",
            "Iteration: 200000,B0=444.1773567228406, B1=2.620538886830202, mse=6470.414201176662\n",
            "Iteration: 300000,B0=444.1773567512623, B1=2.6205388866210093, mse=6470.414201176656\n",
            "Iteration: 400000,B0=444.17735677968403, B1=2.620538886411817, mse=6470.414201176657\n",
            "Iteration: 500000,B0=444.17735680810574, B1=2.6205388862026244, mse=6470.414201176662\n",
            "Iteration: 600000,B0=444.17735683324827, B1=2.620538886017552, mse=6470.414201176664\n",
            "Iteration: 700000,B0=444.17735685598564, B1=2.620538885850198, mse=6470.414201176658\n",
            "Iteration: 800000,B0=444.177356878723, B1=2.6205388856828438, mse=6470.414201176662\n",
            "Iteration: 900000,B0=444.17735690146037, B1=2.6205388855154896, mse=6470.414201176661\n",
            "Iteration: 1000000,B0=444.17735692419774, B1=2.620538885348136, mse=6470.414201176658\n",
            "Iteration: 1100000,B0=444.1773569432468, B1=2.6205388852079126, mse=6470.414201176661\n",
            "Iteration: 1200000,B0=444.17735696029985, B1=2.620538885082397, mse=6470.414201176659\n",
            "Iteration: 1300000,B0=444.1773569773529, B1=2.620538884956882, mse=6470.414201176657\n",
            "Iteration: 1400000,B0=444.1773569944059, B1=2.620538884831366, mse=6470.414201176656\n",
            "Iteration: 1500000,B0=444.1773570114589, B1=2.6205388847058506, mse=6470.414201176658\n",
            "Iteration: 1600000,B0=444.17735702851195, B1=2.620538884580335, mse=6470.414201176659\n",
            "Iteration: 1700000,B0=444.17735704512097, B1=2.6205388844580715, mse=6470.414201176659\n",
            "Iteration: 1800000,B0=444.17735705648965, B1=2.620538884374395, mse=6470.414201176662\n",
            "Iteration: 1900000,B0=444.17735706785834, B1=2.620538884290718, mse=6470.414201176662\n",
            "Iteration: 2000000,B0=444.177357079227, B1=2.6205388842070407, mse=6470.414201176658\n",
            "Iteration: 2100000,B0=444.1773570905957, B1=2.6205388841233637, mse=6470.414201176662\n",
            "Iteration: 2200000,B0=444.1773571019644, B1=2.6205388840396866, mse=6470.414201176658\n",
            "Iteration: 2300000,B0=444.1773571133331, B1=2.6205388839560095, mse=6470.414201176658\n",
            "Iteration: 2400000,B0=444.17735712470176, B1=2.6205388838723325, mse=6470.414201176658\n",
            "Iteration: 2500000,B0=444.17735713607044, B1=2.620538883788656, mse=6470.414201176658\n",
            "Iteration: 2600000,B0=444.1773571474391, B1=2.620538883704979, mse=6470.414201176655\n",
            "Iteration: 2700000,B0=444.17735715754566, B1=2.620538883630575, mse=6470.414201176661\n",
            "Iteration: 2800000,B0=444.17735716323, B1=2.620538883588737, mse=6470.414201176658\n",
            "Iteration: 2900000,B0=444.17735716891434, B1=2.6205388835468986, mse=6470.414201176663\n"
          ],
          "name": "stdout"
        }
      ]
    },
    {
      "cell_type": "code",
      "metadata": {
        "id": "V30_0RTNRSl3",
        "colab_type": "code",
        "colab": {}
      },
      "source": [
        "#остановилась уже на таких результатах  B0=444.17735716891434, B1=2.6205388835468986, mse=6470.414201176663"
      ],
      "execution_count": 0,
      "outputs": []
    }
  ]
}